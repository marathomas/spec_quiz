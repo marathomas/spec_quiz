{
 "cells": [
  {
   "cell_type": "code",
   "execution_count": 1,
   "metadata": {},
   "outputs": [
    {
     "name": "stdout",
     "output_type": "stream",
     "text": [
      "pygame 2.0.1 (SDL 2.0.14, Python 3.7.4)\n",
      "Hello from the pygame community. https://www.pygame.org/contribute.html\n"
     ]
    }
   ],
   "source": [
    "from tkinter import Tk, Frame, Label, Button \n",
    "from time import sleep\n",
    "import pygame\n",
    "import soundfile as sf\n",
    "import os\n",
    "from time import sleep\n",
    "from PIL import ImageTk, Image"
   ]
  },
  {
   "cell_type": "code",
   "execution_count": 23,
   "metadata": {},
   "outputs": [
    {
     "data": {
      "text/plain": [
       "['audio_files/new_agg_example.wav',\n",
       " 'audio_files/new_agg_example_2.wav',\n",
       " 'audio_files/new_al_example-24b.wav',\n",
       " 'audio_files/new_al_example-24b_1.wav',\n",
       " 'audio_files/new_al_example-24b_2.wav',\n",
       " 'audio_files/new_al_example.wav',\n",
       " 'audio_files/new_cc_example.wav',\n",
       " 'audio_files/new_ld_example.wav',\n",
       " 'audio_files/new_mo_example.wav',\n",
       " 'audio_files/new_sn_example.wav',\n",
       " 'audio_files/new_sn_example_2.wav',\n",
       " 'audio_files/new_soc_example.wav',\n",
       " 'audio_files/new_soc_example_2.wav']"
      ]
     },
     "execution_count": 23,
     "metadata": {},
     "output_type": "execute_result"
    }
   ],
   "source": [
    "audios = os.listdir('audio_files')\n",
    "audios = sorted(['wavs_test/'+x for x in audios])\n",
    "audios.remove('audio_files/.DS_Store')\n",
    "audios"
   ]
  },
  {
   "cell_type": "code",
   "execution_count": 25,
   "metadata": {},
   "outputs": [
    {
     "data": {
      "text/plain": [
       "['img_files/new_agg_example.jpg',\n",
       " 'img_files/new_agg_example_2.jpg',\n",
       " 'img_files/new_al_example-24b_1.jpg',\n",
       " 'img_files/new_al_example-24b_2.jpg',\n",
       " 'img_files/new_al_example.jpg',\n",
       " 'img_files/new_al_example_24b.jpg',\n",
       " 'img_files/new_cc_example.jpg',\n",
       " 'img_files/new_ld_example.jpg',\n",
       " 'img_files/new_mo_example.jpg',\n",
       " 'img_files/new_sn_example.jpg',\n",
       " 'img_files/new_sn_example_2.jpg',\n",
       " 'img_files/new_soc_example.jpg',\n",
       " 'img_files/new_soc_example_2.jpg']"
      ]
     },
     "execution_count": 25,
     "metadata": {},
     "output_type": "execute_result"
    }
   ],
   "source": [
    "img_paths = os.listdir('img_files')\n",
    "img_paths = sorted(['imgs_test/'+x for x in img_paths])\n",
    "img_paths.remove('img_files/.DS_Store')\n",
    "img_paths"
   ]
  },
  {
   "cell_type": "code",
   "execution_count": 26,
   "metadata": {},
   "outputs": [],
   "source": [
    "calltypes = ['agg', 'al', 'cc', 'ld','mo','sn','soc', 'unk']\n",
    "\n",
    "class Question:\n",
    "    def __init__(self, question, answers):\n",
    "        self.question = question\n",
    "        self.answers = answers\n",
    "\n",
    "    def check(self, letter, view):\n",
    "        label = Label(view, text=\"Thanks\")\n",
    "        label.pack()\n",
    "        view.after(1000, lambda *args: self.unpackView(view))\n",
    "\n",
    "\n",
    "    def getView(self, window):\n",
    "        view = Frame(window)\n",
    "        label = Label(view, text=self.question)\n",
    "        button_a = Button(view, text=calltypes[0], command=lambda *args: self.check(\"agg\", view))\n",
    "        button_b = Button(view, text=calltypes[1], command=lambda *args: self.check(\"al\", view))\n",
    "        button_c = Button(view, text=calltypes[2], command=lambda *args: self.check(\"cc\", view))\n",
    "        button_d = Button(view, text=calltypes[3], command=lambda *args: self.check(\"ld\", view))\n",
    "        button_e = Button(view, text=calltypes[4], command=lambda *args: self.check(\"mo\", view))\n",
    "        button_f = Button(view, text=calltypes[5], command=lambda *args: self.check(\"sn\", view))\n",
    "        button_g = Button(view, text=calltypes[6], command=lambda *args: self.check(\"soc\", view))\n",
    "        button_h = Button(view, text=calltypes[7], command=lambda *args: self.check(\"unk\", view))\n",
    "        \n",
    "        #button_m = Button(window, text=\"Play sound\", command=play_music)\n",
    "        button_m = Button(view, text=\"Play sound\", command=play_music)\n",
    "\n",
    "        label.pack(side=\"top\")\n",
    "        button_m.pack(side=\"top\")\n",
    "        button_a.pack(side=\"top\")\n",
    "        button_b.pack(side=\"top\")\n",
    "        button_c.pack(side=\"top\")\n",
    "        button_d.pack(side=\"top\")\n",
    "        button_e.pack(side=\"top\")\n",
    "        button_f.pack(side=\"top\")\n",
    "        button_g.pack(side=\"top\")\n",
    "        button_h.pack(side=\"top\")\n",
    "        button_m.pack(side=\"top\")\n",
    "        \n",
    "        #image1 = Image.open(img_paths[index])\n",
    "        #img = ImageTk.PhotoImage(image1)\n",
    "        img = show_img()\n",
    "        spec_img = Label(view, image=img)\n",
    "        spec_img.pack(side = \"bottom\", fill = \"both\", expand = \"yes\")\n",
    "        \n",
    "        return view\n",
    "    \n",
    "    def unpackView(self, view):\n",
    "        view.pack_forget()\n",
    "        askQuestion()\n",
    "\n",
    "def askQuestion():\n",
    "    global questions, window, index, button, right, number_of_questions \n",
    "    if(len(questions) == index + 1):\n",
    "        Label(window, text=\"Thank you for answering the questions. \" + str(right) + \" of \" + str(number_of_questions) + \" questions answered right\").pack()\n",
    "        return\n",
    "    button.pack_forget()\n",
    "    index += 1\n",
    "    questions[index].getView(window).pack()\n",
    "\n",
    "\n",
    "questions = [Question('Please assign to call type group: ', ['agg', 'al', 'cc', 'ld','mo','sn','soc', 'unk'])]*10\n",
    "\n",
    "index = -1\n",
    "right = 0\n",
    "number_of_questions = len(questions)\n",
    "\n",
    "pygame.mixer.pre_init(8000, -16, 1, 262144)\n",
    "pygame.mixer.init()\n",
    "\n",
    "def play_music():\n",
    "    global questions, window, index, button, right, number_of_questions\n",
    "    pygame.mixer.music.load(audios[index])\n",
    "    pygame.mixer.music.play()\n",
    "\n",
    "def show_img():\n",
    "    global img, index\n",
    "    image1 = Image.open(img_paths[index])\n",
    "    img = ImageTk.PhotoImage(image1)\n",
    "    return img\n",
    "\n",
    "window = Tk()\n",
    "window.title('Meerkat Sound Classification')\n",
    "window.geometry(\"600x650\")\n",
    "button = Button(window, text=\"Start\", command=askQuestion)\n",
    "\n",
    "button.pack()\n",
    "\n",
    "\n",
    "window.mainloop()"
   ]
  },
  {
   "cell_type": "code",
   "execution_count": 12,
   "metadata": {},
   "outputs": [],
   "source": [
    "image1 = Image.open(\"img_files/109.jpg\")\n",
    "#test = ImageTk.PhotoImage(image1)"
   ]
  },
  {
   "cell_type": "code",
   "execution_count": 17,
   "metadata": {},
   "outputs": [
    {
     "name": "stdout",
     "output_type": "stream",
     "text": [
      "_cnfmerge: fallback due to: 'int' object is not iterable\n"
     ]
    },
    {
     "ename": "AttributeError",
     "evalue": "'int' object has no attribute 'items'",
     "output_type": "error",
     "traceback": [
      "\u001b[0;31m---------------------------------------------------------------------------\u001b[0m",
      "\u001b[0;31mTypeError\u001b[0m                                 Traceback (most recent call last)",
      "\u001b[0;32m~/opt/anaconda3/lib/python3.7/tkinter/__init__.py\u001b[0m in \u001b[0;36m_cnfmerge\u001b[0;34m(cnfs)\u001b[0m\n\u001b[1;32m    105\u001b[0m             \u001b[0;32mtry\u001b[0m\u001b[0;34m:\u001b[0m\u001b[0;34m\u001b[0m\u001b[0;34m\u001b[0m\u001b[0m\n\u001b[0;32m--> 106\u001b[0;31m                 \u001b[0mcnf\u001b[0m\u001b[0;34m.\u001b[0m\u001b[0mupdate\u001b[0m\u001b[0;34m(\u001b[0m\u001b[0mc\u001b[0m\u001b[0;34m)\u001b[0m\u001b[0;34m\u001b[0m\u001b[0;34m\u001b[0m\u001b[0m\n\u001b[0m\u001b[1;32m    107\u001b[0m             \u001b[0;32mexcept\u001b[0m \u001b[0;34m(\u001b[0m\u001b[0mAttributeError\u001b[0m\u001b[0;34m,\u001b[0m \u001b[0mTypeError\u001b[0m\u001b[0;34m)\u001b[0m \u001b[0;32mas\u001b[0m \u001b[0mmsg\u001b[0m\u001b[0;34m:\u001b[0m\u001b[0;34m\u001b[0m\u001b[0;34m\u001b[0m\u001b[0m\n",
      "\u001b[0;31mTypeError\u001b[0m: 'int' object is not iterable",
      "\nDuring handling of the above exception, another exception occurred:\n",
      "\u001b[0;31mAttributeError\u001b[0m                            Traceback (most recent call last)",
      "\u001b[0;32m<ipython-input-17-f47db733b67e>\u001b[0m in \u001b[0;36m<module>\u001b[0;34m\u001b[0m\n\u001b[1;32m      6\u001b[0m \u001b[0;34m\u001b[0m\u001b[0m\n\u001b[1;32m      7\u001b[0m \u001b[0;31m# Position image\u001b[0m\u001b[0;34m\u001b[0m\u001b[0;34m\u001b[0m\u001b[0;34m\u001b[0m\u001b[0m\n\u001b[0;32m----> 8\u001b[0;31m \u001b[0mlabel1\u001b[0m\u001b[0;34m.\u001b[0m\u001b[0mplace\u001b[0m\u001b[0;34m(\u001b[0m\u001b[0;34m[\u001b[0m\u001b[0;36m5\u001b[0m\u001b[0;34m,\u001b[0m \u001b[0;36m5\u001b[0m\u001b[0;34m]\u001b[0m\u001b[0;34m)\u001b[0m\u001b[0;34m\u001b[0m\u001b[0;34m\u001b[0m\u001b[0m\n\u001b[0m",
      "\u001b[0;32m~/opt/anaconda3/lib/python3.7/tkinter/__init__.py\u001b[0m in \u001b[0;36mplace_configure\u001b[0;34m(self, cnf, **kw)\u001b[0m\n\u001b[1;32m   2186\u001b[0m         self.tk.call(\n\u001b[1;32m   2187\u001b[0m               \u001b[0;34m(\u001b[0m\u001b[0;34m'place'\u001b[0m\u001b[0;34m,\u001b[0m \u001b[0;34m'configure'\u001b[0m\u001b[0;34m,\u001b[0m \u001b[0mself\u001b[0m\u001b[0;34m.\u001b[0m\u001b[0m_w\u001b[0m\u001b[0;34m)\u001b[0m\u001b[0;34m\u001b[0m\u001b[0;34m\u001b[0m\u001b[0m\n\u001b[0;32m-> 2188\u001b[0;31m               + self._options(cnf, kw))\n\u001b[0m\u001b[1;32m   2189\u001b[0m     \u001b[0mplace\u001b[0m \u001b[0;34m=\u001b[0m \u001b[0mconfigure\u001b[0m \u001b[0;34m=\u001b[0m \u001b[0mconfig\u001b[0m \u001b[0;34m=\u001b[0m \u001b[0mplace_configure\u001b[0m\u001b[0;34m\u001b[0m\u001b[0;34m\u001b[0m\u001b[0m\n\u001b[1;32m   2190\u001b[0m     \u001b[0;32mdef\u001b[0m \u001b[0mplace_forget\u001b[0m\u001b[0;34m(\u001b[0m\u001b[0mself\u001b[0m\u001b[0;34m)\u001b[0m\u001b[0;34m:\u001b[0m\u001b[0;34m\u001b[0m\u001b[0;34m\u001b[0m\u001b[0m\n",
      "\u001b[0;32m~/opt/anaconda3/lib/python3.7/tkinter/__init__.py\u001b[0m in \u001b[0;36m_options\u001b[0;34m(self, cnf, kw)\u001b[0m\n\u001b[1;32m   1318\u001b[0m             \u001b[0mcnf\u001b[0m \u001b[0;34m=\u001b[0m \u001b[0m_cnfmerge\u001b[0m\u001b[0;34m(\u001b[0m\u001b[0;34m(\u001b[0m\u001b[0mcnf\u001b[0m\u001b[0;34m,\u001b[0m \u001b[0mkw\u001b[0m\u001b[0;34m)\u001b[0m\u001b[0;34m)\u001b[0m\u001b[0;34m\u001b[0m\u001b[0;34m\u001b[0m\u001b[0m\n\u001b[1;32m   1319\u001b[0m         \u001b[0;32melse\u001b[0m\u001b[0;34m:\u001b[0m\u001b[0;34m\u001b[0m\u001b[0;34m\u001b[0m\u001b[0m\n\u001b[0;32m-> 1320\u001b[0;31m             \u001b[0mcnf\u001b[0m \u001b[0;34m=\u001b[0m \u001b[0m_cnfmerge\u001b[0m\u001b[0;34m(\u001b[0m\u001b[0mcnf\u001b[0m\u001b[0;34m)\u001b[0m\u001b[0;34m\u001b[0m\u001b[0;34m\u001b[0m\u001b[0m\n\u001b[0m\u001b[1;32m   1321\u001b[0m         \u001b[0mres\u001b[0m \u001b[0;34m=\u001b[0m \u001b[0;34m(\u001b[0m\u001b[0;34m)\u001b[0m\u001b[0;34m\u001b[0m\u001b[0;34m\u001b[0m\u001b[0m\n\u001b[1;32m   1322\u001b[0m         \u001b[0;32mfor\u001b[0m \u001b[0mk\u001b[0m\u001b[0;34m,\u001b[0m \u001b[0mv\u001b[0m \u001b[0;32min\u001b[0m \u001b[0mcnf\u001b[0m\u001b[0;34m.\u001b[0m\u001b[0mitems\u001b[0m\u001b[0;34m(\u001b[0m\u001b[0;34m)\u001b[0m\u001b[0;34m:\u001b[0m\u001b[0;34m\u001b[0m\u001b[0;34m\u001b[0m\u001b[0m\n",
      "\u001b[0;32m~/opt/anaconda3/lib/python3.7/tkinter/__init__.py\u001b[0m in \u001b[0;36m_cnfmerge\u001b[0;34m(cnfs)\u001b[0m\n\u001b[1;32m    107\u001b[0m             \u001b[0;32mexcept\u001b[0m \u001b[0;34m(\u001b[0m\u001b[0mAttributeError\u001b[0m\u001b[0;34m,\u001b[0m \u001b[0mTypeError\u001b[0m\u001b[0;34m)\u001b[0m \u001b[0;32mas\u001b[0m \u001b[0mmsg\u001b[0m\u001b[0;34m:\u001b[0m\u001b[0;34m\u001b[0m\u001b[0;34m\u001b[0m\u001b[0m\n\u001b[1;32m    108\u001b[0m                 \u001b[0mprint\u001b[0m\u001b[0;34m(\u001b[0m\u001b[0;34m\"_cnfmerge: fallback due to:\"\u001b[0m\u001b[0;34m,\u001b[0m \u001b[0mmsg\u001b[0m\u001b[0;34m)\u001b[0m\u001b[0;34m\u001b[0m\u001b[0;34m\u001b[0m\u001b[0m\n\u001b[0;32m--> 109\u001b[0;31m                 \u001b[0;32mfor\u001b[0m \u001b[0mk\u001b[0m\u001b[0;34m,\u001b[0m \u001b[0mv\u001b[0m \u001b[0;32min\u001b[0m \u001b[0mc\u001b[0m\u001b[0;34m.\u001b[0m\u001b[0mitems\u001b[0m\u001b[0;34m(\u001b[0m\u001b[0;34m)\u001b[0m\u001b[0;34m:\u001b[0m\u001b[0;34m\u001b[0m\u001b[0;34m\u001b[0m\u001b[0m\n\u001b[0m\u001b[1;32m    110\u001b[0m                     \u001b[0mcnf\u001b[0m\u001b[0;34m[\u001b[0m\u001b[0mk\u001b[0m\u001b[0;34m]\u001b[0m \u001b[0;34m=\u001b[0m \u001b[0mv\u001b[0m\u001b[0;34m\u001b[0m\u001b[0;34m\u001b[0m\u001b[0m\n\u001b[1;32m    111\u001b[0m         \u001b[0;32mreturn\u001b[0m \u001b[0mcnf\u001b[0m\u001b[0;34m\u001b[0m\u001b[0;34m\u001b[0m\u001b[0m\n",
      "\u001b[0;31mAttributeError\u001b[0m: 'int' object has no attribute 'items'"
     ]
    }
   ],
   "source": [
    "image1 = Image.open(\"img_files/109.jpg\")\n",
    "img = ImageTk.PhotoImage(image1)\n",
    "\n",
    "spec_img = Label(window, image=img)\n",
    "#label1.image = test\n",
    "spec_img.pack(side = \"bottom\", fill = \"both\", expand = \"yes\")\n",
    "# Position image\n",
    "#label1.place([5, 5])"
   ]
  },
  {
   "cell_type": "code",
   "execution_count": 88,
   "metadata": {},
   "outputs": [
    {
     "data": {
      "text/plain": [
       "<Channel at 0x7f88e97dea30>"
      ]
     },
     "execution_count": 88,
     "metadata": {},
     "output_type": "execute_result"
    }
   ],
   "source": [
    "i=0\n",
    "audiofile = audios[i]\n",
    "pygame.mixer.quit() \n",
    "pygame.mixer.pre_init(8000, -16, 1, 262144)\n",
    "pygame.mixer.init()\n",
    "\n",
    "soundObj = pygame.mixer.Sound(audiofile)\n",
    "soundObj.play()"
   ]
  },
  {
   "cell_type": "code",
   "execution_count": 63,
   "metadata": {},
   "outputs": [
    {
     "name": "stdout",
     "output_type": "stream",
     "text": [
      "init = (8000, 16, 1)\n",
      "channels = 8\n",
      "length = 0.23499999940395355\n"
     ]
    }
   ],
   "source": [
    "print('init =', pygame.mixer.get_init())\n",
    "print('channels =', pygame.mixer.get_num_channels())\n",
    "print('length =', soundObj.get_length())"
   ]
  },
  {
   "cell_type": "code",
   "execution_count": 49,
   "metadata": {},
   "outputs": [
    {
     "data": {
      "text/html": [
       "\n",
       "                <audio  controls=\"controls\" >\n",
       "                    <source src=\"data:audio/wav;base64,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\" type=\"audio/wav\" />\n",
       "                    Your browser does not support the audio element.\n",
       "                </audio>\n",
       "              "
      ],
      "text/plain": [
       "<IPython.lib.display.Audio object>"
      ]
     },
     "execution_count": 49,
     "metadata": {},
     "output_type": "execute_result"
    }
   ],
   "source": [
    "import librosa\n",
    "import IPython.display as ipd\n",
    "\n",
    "data, sr = librosa.load(audios[i], sr=None)\n",
    "ipd.Audio(data=data,rate=sr)"
   ]
  },
  {
   "cell_type": "code",
   "execution_count": 8,
   "metadata": {},
   "outputs": [
    {
     "ename": "FileNotFoundError",
     "evalue": "[Errno 2] No such file or directory: 'Quiz/audio_files'",
     "output_type": "error",
     "traceback": [
      "\u001b[0;31m---------------------------------------------------------------------------\u001b[0m",
      "\u001b[0;31mFileNotFoundError\u001b[0m                         Traceback (most recent call last)",
      "\u001b[0;32m<ipython-input-8-bc8fa1580139>\u001b[0m in \u001b[0;36m<module>\u001b[0;34m\u001b[0m\n\u001b[1;32m      1\u001b[0m \u001b[0;31m# turn audios in 16 bit so that they're readable for pygame\u001b[0m\u001b[0;34m\u001b[0m\u001b[0;34m\u001b[0m\u001b[0;34m\u001b[0m\u001b[0m\n\u001b[1;32m      2\u001b[0m \u001b[0;34m\u001b[0m\u001b[0m\n\u001b[0;32m----> 3\u001b[0;31m \u001b[0mos\u001b[0m\u001b[0;34m.\u001b[0m\u001b[0mchdir\u001b[0m\u001b[0;34m(\u001b[0m\u001b[0;34m'Quiz/audio_files'\u001b[0m\u001b[0;34m)\u001b[0m\u001b[0;34m\u001b[0m\u001b[0;34m\u001b[0m\u001b[0m\n\u001b[0m\u001b[1;32m      4\u001b[0m \u001b[0maudio_files\u001b[0m \u001b[0;34m=\u001b[0m \u001b[0mos\u001b[0m\u001b[0;34m.\u001b[0m\u001b[0mlistdir\u001b[0m\u001b[0;34m(\u001b[0m\u001b[0;34m)\u001b[0m\u001b[0;34m\u001b[0m\u001b[0;34m\u001b[0m\u001b[0m\n",
      "\u001b[0;31mFileNotFoundError\u001b[0m: [Errno 2] No such file or directory: 'Quiz/audio_files'"
     ]
    }
   ],
   "source": [
    "# turn audios in 16 bit so that they're readable for pygame\n",
    "\n",
    "os.chdir('audio_files')\n",
    "audio_files = os.listdir()"
   ]
  },
  {
   "cell_type": "code",
   "execution_count": 44,
   "metadata": {},
   "outputs": [],
   "source": [
    "for file in audio_files:\n",
    "    data, samplerate = sf.read(file)\n",
    "    sf.write('new_'+file, data, samplerate, subtype='PCM_16')"
   ]
  },
  {
   "cell_type": "code",
   "execution_count": 66,
   "metadata": {},
   "outputs": [
    {
     "data": {
      "text/plain": [
       "<Channel at 0x7ff94d676ad0>"
      ]
     },
     "execution_count": 66,
     "metadata": {},
     "output_type": "execute_result"
    }
   ],
   "source": [
    "audiofile = 'Quiz/audio_files/new_sn_example.wav'\n",
    "soundObj = pygame.mixer.Sound(audiofile)\n",
    "soundObj.play()"
   ]
  },
  {
   "cell_type": "code",
   "execution_count": null,
   "metadata": {},
   "outputs": [],
   "source": []
  }
 ],
 "metadata": {
  "kernelspec": {
   "display_name": "Python 3",
   "language": "python",
   "name": "python3"
  },
  "language_info": {
   "codemirror_mode": {
    "name": "ipython",
    "version": 3
   },
   "file_extension": ".py",
   "mimetype": "text/x-python",
   "name": "python",
   "nbconvert_exporter": "python",
   "pygments_lexer": "ipython3",
   "version": "3.7.4"
  }
 },
 "nbformat": 4,
 "nbformat_minor": 2
}
