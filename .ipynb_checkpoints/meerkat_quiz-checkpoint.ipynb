{
 "cells": [
  {
   "cell_type": "code",
   "execution_count": 11,
   "metadata": {},
   "outputs": [],
   "source": [
    "import tkinter as tk\n",
    "from tkinter import Tk, Frame, Label, Button, Entry\n",
    "from time import sleep\n",
    "import pygame\n",
    "import soundfile as sf\n",
    "import os\n",
    "from time import sleep\n",
    "from PIL import ImageTk, Image\n",
    "import glob\n",
    "from pandas.core.common import flatten"
   ]
  },
  {
   "cell_type": "code",
   "execution_count": 3,
   "metadata": {},
   "outputs": [
    {
     "data": {
      "text/plain": [
       "['audio_files/new_agg_example.wav',\n",
       " 'audio_files/new_agg_example_2.wav',\n",
       " 'audio_files/new_al_example-24b.wav',\n",
       " 'audio_files/new_al_example-24b_1.wav',\n",
       " 'audio_files/new_al_example-24b_2.wav',\n",
       " 'audio_files/new_al_example.wav',\n",
       " 'audio_files/new_cc_example.wav',\n",
       " 'audio_files/new_ld_example.wav',\n",
       " 'audio_files/new_mo_example.wav',\n",
       " 'audio_files/new_sn_example.wav',\n",
       " 'audio_files/new_sn_example_2.wav',\n",
       " 'audio_files/new_soc_example.wav',\n",
       " 'audio_files/new_soc_example_2.wav']"
      ]
     },
     "execution_count": 3,
     "metadata": {},
     "output_type": "execute_result"
    }
   ],
   "source": [
    "audios = sorted(glob.glob('wavs/'+'*.wav'))\n",
    "audios"
   ]
  },
  {
   "cell_type": "code",
   "execution_count": 7,
   "metadata": {},
   "outputs": [
    {
     "data": {
      "text/plain": [
       "['img_files/new_agg_example.jpg',\n",
       " 'img_files/new_agg_example_2.jpg',\n",
       " 'NA',\n",
       " 'img_files/new_al_example-24b_1.jpg',\n",
       " 'img_files/new_al_example-24b_2.jpg',\n",
       " 'img_files/new_al_example.jpg',\n",
       " 'img_files/new_cc_example.jpg',\n",
       " 'img_files/new_ld_example.jpg',\n",
       " 'img_files/new_mo_example.jpg',\n",
       " 'img_files/new_sn_example.jpg',\n",
       " 'img_files/new_sn_example_2.jpg',\n",
       " 'img_files/new_soc_example.jpg',\n",
       " 'img_files/new_soc_example_2.jpg']"
      ]
     },
     "execution_count": 7,
     "metadata": {},
     "output_type": "execute_result"
    }
   ],
   "source": [
    "# Find corresponding images\n",
    "ids = [os.path.basename(x).split('.')[0] for x in audios]\n",
    "img_paths = [glob.glob('imgs/'+fileID+'.*') for fileID in ids]\n",
    "img_paths = [[\"NA\"] if not x else x for x in img_paths] # Replace empty lists with \"NA\"\n",
    "img_paths = list(flatten(img_paths)) # Flatten list\n",
    "img_paths"
   ]
  },
  {
   "cell_type": "code",
   "execution_count": 33,
   "metadata": {},
   "outputs": [],
   "source": [
    "answers = []\n",
    "\n",
    "class Question:\n",
    "    def __init__(self, question, answers):\n",
    "        self.question = question\n",
    "        #self.answers = answers\n",
    "\n",
    "\n",
    "    def getView(self, window):\n",
    "        global entry\n",
    "        #entry = Entry()\n",
    "        #entry.pack()\n",
    "        \n",
    "        # Remove entry\n",
    "        #entry.delete(0, tk.END)\n",
    "        \n",
    "        view = Frame(window)\n",
    "        label = Label(view, text=self.question)\n",
    "        button_a = Button(view, text=\"Submit answer\", command=lambda *args: self.unpackView(view))\n",
    "        button_m = Button(view, text=\"Play sound\", command=play_music)\n",
    "        \n",
    "        label.pack(side=\"top\")\n",
    "        entry.pack(side=\"top\")\n",
    "        button_a.pack(side=\"top\")\n",
    "        button_m.pack(side=\"top\")\n",
    "        \n",
    "        # Show spec\n",
    "        img = show_img()\n",
    "        if img != 'NA':\n",
    "            spec_img = Label(view, image=img)\n",
    "            spec_img.pack(side = \"bottom\", fill = \"both\", expand = \"yes\")\n",
    "        else:\n",
    "            spec_img = Label(text=\"No image\")\n",
    "            spec_img.pack(side='bottom')\n",
    "        \n",
    "       \n",
    "        return view\n",
    "    \n",
    "    def get_answer(self):\n",
    "        global entry\n",
    "        ans = entry.get()\n",
    "        answers.append(ans)\n",
    "        entry.delete(0, tk.END)\n",
    "    \n",
    "    def unpackView(self, view):\n",
    "        self.get_answer()\n",
    "        view.pack_forget()\n",
    "        askQuestion()\n",
    "\n",
    "def askQuestion():\n",
    "    global questions, window, index, button, answers, entry\n",
    "    if(len(questions) == index + 1):\n",
    "        entry.delete(0, tk.END)\n",
    "        Label(window, text=\"Thank you, you can close the window now.\").pack()\n",
    "        with open('answers.txt', 'w') as f:\n",
    "            for sound_id,a in zip(ids,answers):\n",
    "                item = sound_id+';'+a\n",
    "                f.write(\"%s\\n\" % item)\n",
    "        return\n",
    "    button.pack_forget()\n",
    "    index += 1\n",
    "    questions[index].getView(window).pack()\n",
    "\n",
    "\n",
    "questions = [Question('Please assign to calltype ', ['agg', 'al', 'cc', 'ld','mo','sn','soc', 'unk'])]*len(audios)\n",
    "questions = [Question('agg / al / cc / ld / mo / sn / soc / unkown', ['agg', 'al', 'cc', 'ld','mo','sn','soc', 'unk'])]*len(audios)\n",
    "\n",
    "index = -1\n",
    "right = 0\n",
    "number_of_questions = len(questions)\n",
    "\n",
    "pygame.mixer.pre_init(8000, -16, 1, 262144)\n",
    "pygame.mixer.init()\n",
    "\n",
    "def play_music():\n",
    "    global index\n",
    "    pygame.mixer.music.load(audios[index])\n",
    "    pygame.mixer.music.play()\n",
    "\n",
    "def show_img():\n",
    "    global img, index\n",
    "    if img_paths[index] != 'NA':\n",
    "        image1 = Image.open(img_paths[index])\n",
    "        img = ImageTk.PhotoImage(image1)\n",
    "        return img\n",
    "\n",
    "window = Tk()\n",
    "window.title('Meerkat Sound Classification')\n",
    "window.geometry(\"600x650\")\n",
    "\n",
    "button = Button(window, text=\"Start\", command=askQuestion)\n",
    "button.pack()\n",
    "\n",
    "#field_label = Label(text=\"Please assign to calltype\")\n",
    "#field_label.pack()\n",
    "\n",
    "entry = Entry()\n",
    "#entry.pack()\n",
    "\n",
    "window.mainloop()"
   ]
  },
  {
   "cell_type": "code",
   "execution_count": null,
   "metadata": {},
   "outputs": [],
   "source": []
  }
 ],
 "metadata": {
  "kernelspec": {
   "display_name": "Python 3",
   "language": "python",
   "name": "python3"
  },
  "language_info": {
   "codemirror_mode": {
    "name": "ipython",
    "version": 3
   },
   "file_extension": ".py",
   "mimetype": "text/x-python",
   "name": "python",
   "nbconvert_exporter": "python",
   "pygments_lexer": "ipython3",
   "version": "3.7.4"
  }
 },
 "nbformat": 4,
 "nbformat_minor": 2
}
